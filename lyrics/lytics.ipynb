{
 "cells": [
  {
   "cell_type": "markdown",
   "metadata": {},
   "source": [
    "# Lyrics\n",
    "## Intro\n",
    "This exercise is simple. You are going to create a code that writes the lyrics of a famous song. **The shorter your code is, the better**. Although it may seem a bit silly, it is important that you learn to automate repetitive tasks or that there are few changes between them.\n",
    "\n",
    "<img src=\"./images/babyshark.jpeg\" width=\"400\">\n",
    "\n",
    "## Song\n",
    "\n",
    "```\n",
    "Baby shark, doo doo doo doo doo doo\n",
    "Baby shark, doo doo doo doo doo doo\n",
    "Baby shark, doo doo doo doo doo doo\n",
    "Baby shark!\n",
    "Mommy shark, doo doo doo doo doo doo\n",
    "Mommy shark, doo doo doo doo doo doo\n",
    "Mommy shark, doo doo doo doo doo doo\n",
    "Mommy shark!\n",
    "Daddy shark, doo doo doo doo doo doo\n",
    "Daddy shark, doo doo doo doo doo doo\n",
    "Daddy shark, doo doo doo doo doo doo\n",
    "Daddy shark!\n",
    "Grandma shark, doo doo doo doo doo doo\n",
    "Grandma shark, doo doo doo doo doo doo\n",
    "Grandma shark, doo doo doo doo doo doo\n",
    "Grandma shark!\n",
    "Grandpa shark, doo doo doo doo doo doo\n",
    "Grandpa shark, doo doo doo doo doo doo\n",
    "Grandpa shark, doo doo doo doo doo doo\n",
    "Grandpa shark!\n",
    "Let's go hunt, doo doo doo doo doo doo\n",
    "Let's go hunt, doo doo doo doo doo doo\n",
    "Let's go hunt, doo doo doo doo doo doo\n",
    "Let's go hunt!\n",
    "Run away,… \n",
    "```\n",
    "\n",
    "\n",
    "## Goals\n",
    "\n",
    "0. Use of string methods: **format()**, **str()**\n",
    "1. Use of **for loop**\n",
    "2. Use of the function **range()**\n",
    "3. print()\n",
    "4. Use of functions\n",
    "5. Open files\n",
    "6. Refactoring\n",
    "\n",
    "## Hints\n",
    "\n",
    "* '\\n' is the character for new line. It must end every string in the third step. \n",
    "\n",
    "\n",
    "## Solution"
   ]
  },
  {
   "cell_type": "code",
   "execution_count": 5,
   "metadata": {},
   "outputs": [],
   "source": [
    "# Variable\n",
    "\n",
    "babyshark = '''Baby shark, doo doo doo doo doo doo\n",
    "Baby shark, doo doo doo doo doo doo\n",
    "Baby shark, doo doo doo doo doo doo\n",
    "Baby shark!\n",
    "Mommy shark, doo doo doo doo doo doo\n",
    "Mommy shark, doo doo doo doo doo doo\n",
    "Mommy shark, doo doo doo doo doo doo\n",
    "Mommy shark!\n",
    "Daddy shark, doo doo doo doo doo doo\n",
    "Daddy shark, doo doo doo doo doo doo\n",
    "Daddy shark, doo doo doo doo doo doo\n",
    "Daddy shark!\n",
    "Grandma shark, doo doo doo doo doo doo\n",
    "Grandma shark, doo doo doo doo doo doo\n",
    "Grandma shark, doo doo doo doo doo doo\n",
    "Grandma shark!\n",
    "Grandpa shark, doo doo doo doo doo doo\n",
    "Grandpa shark, doo doo doo doo doo doo\n",
    "Grandpa shark, doo doo doo doo doo doo\n",
    "Grandpa shark!\n",
    "Let's go hunt, doo doo doo doo doo doo\n",
    "Let's go hunt, doo doo doo doo doo doo\n",
    "Let's go hunt, doo doo doo doo doo doo\n",
    "Let's go hunt!\n",
    "Run away,…'''\n"
   ]
  },
  {
   "cell_type": "markdown",
   "metadata": {},
   "source": [
    "### Step 1: First Paragraph\n",
    "Create a code to print the first paragraph and asign it to a variable. "
   ]
  },
  {
   "cell_type": "code",
   "execution_count": 119,
   "metadata": {},
   "outputs": [
    {
     "name": "stdout",
     "output_type": "stream",
     "text": [
      "Baby shark, doo doo doo doo doo doo\n",
      "Baby shark, doo doo doo doo doo doo\n",
      "Baby shark, doo doo doo doo doo doo\n",
      "Baby shark!\n",
      "\n"
     ]
    }
   ],
   "source": [
    "# your code here\n",
    "a=\"Baby \"\n",
    "b=\"shark,\"\n",
    "c=\" doo doo doo doo doo doo\"\n",
    "d=\"shark!\"\n",
    "print(\"{}{}{}\\n\".format(a,b,c)*3+\"{}{}\\n\".format(a,d))\n",
    "\n",
    "        \n"
   ]
  },
  {
   "cell_type": "markdown",
   "metadata": {},
   "source": [
    "**Expected output**:\n",
    "\n",
    "```\n",
    "Baby shark, doo doo doo doo doo doo\n",
    "Baby shark, doo doo doo doo doo doo\n",
    "Baby shark, doo doo doo doo doo doo\n",
    "Baby shark!\n",
    "```\n",
    "\n"
   ]
  },
  {
   "cell_type": "markdown",
   "metadata": {},
   "source": [
    "### Step 2: Full song\n",
    "\n",
    "Create a code that prints the complete lyrics. "
   ]
  },
  {
   "cell_type": "code",
   "execution_count": 168,
   "metadata": {},
   "outputs": [
    {
     "name": "stdout",
     "output_type": "stream",
     "text": [
      "Grandma shark, doo doo doo doo doo doo\n",
      "Grandma shark, doo doo doo doo doo doo\n",
      "Grandma shark, doo doo doo doo doo doo\n",
      "Grandma shark!\n",
      "\n",
      "Grandpa shark, doo doo doo doo doo doo\n",
      "Grandpa shark, doo doo doo doo doo doo\n",
      "Grandpa shark, doo doo doo doo doo doo\n",
      "Grandpa shark!\n",
      "\n",
      "let's go hunt, doo doo doo doo doo doo\n",
      "let's go hunt, doo doo doo doo doo doo\n",
      "let's go hunt, doo doo doo doo doo doo\n",
      "let's go hunt!\n",
      "\n",
      "Baby shark, doo doo doo doo doo doo\n",
      "Baby shark, doo doo doo doo doo doo\n",
      "Baby shark, doo doo doo doo doo doo\n",
      "Baby shark!\n",
      " Mommy shark, doo doo doo doo doo doo\n",
      "Mommy shark, doo doo doo doo doo doo\n",
      "Mommy shark, doo doo doo doo doo doo\n",
      "Mommy shark!\n",
      " Daddy shark, doo doo doo doo doo doo\n",
      "Daddy shark, doo doo doo doo doo doo\n",
      "Daddy shark, doo doo doo doo doo doo\n",
      "Daddy shark!\n",
      " None None None Run away,...\n"
     ]
    }
   ],
   "source": [
    "# your code here\n",
    "\n",
    "a1=\"Baby \"\n",
    "a2=\"Mommy \"\n",
    "a3=\"Daddy \"\n",
    "a4=\"Grandma \"\n",
    "a5=\"Grandpa \"\n",
    "\n",
    "b1=\"shark,\"\n",
    "b2=\"let's go hunt,\"\n",
    "\n",
    "c1=\" doo doo doo doo doo doo\"\n",
    "d1=\"shark!\"\n",
    "d2=\"let's go hunt!\"\n",
    "f=\"Run away,...\"\n",
    "\n",
    "\n",
    "\n",
    "for x in range(6):\n",
    "    if x<1:\n",
    "        uno=print(\"{}{}{}\\n\".format(a1,b1,c1)*3+\"{}{}\\n\".format(a1,d1))\n",
    "    elif x<2:\n",
    "        dos=print(\"{}{}{}\\n\".format(a2,b1,c1)*3+\"{}{}\\n\".format(a2,d1))\n",
    "    elif x<3:\n",
    "        tres=print(\"{}{}{}\\n\".format(a3,b1,c1)*3+\"{}{}\\n\".format(a3,d1))\n",
    "    elif x<4:\n",
    "        cuatro=print(\"{}{}{}\\n\".format(a4,b1,c1)*3+\"{}{}\\n\".format(a4,d1))\n",
    "    elif x<5:\n",
    "        cinco=print(\"{}{}{}\\n\".format(a5,b1,c1)*3+\"{}{}\\n\".format(a5,d1))\n",
    "    else:\n",
    "        seis=print(\"{}{}\\n\".format(b2,c1)*3+\"{}\\n\".format(d2))\n",
    "print(f)\n",
    "\n",
    "print(uno,dos,tres,cuatro,cinco,seis,f)\n"
   ]
  },
  {
   "cell_type": "markdown",
   "metadata": {},
   "source": [
    "**Expected output**:\n",
    "\n",
    "```\n",
    "Baby shark, doo doo doo doo doo doo\n",
    "Baby shark, doo doo doo doo doo doo\n",
    "Baby shark, doo doo doo doo doo doo\n",
    "Baby shark!\n",
    "Mommy shark, doo doo doo doo doo doo\n",
    "Mommy shark, doo doo doo doo doo doo\n",
    "Mommy shark, doo doo doo doo doo doo\n",
    "Mommy shark!\n",
    "Daddy shark, doo doo doo doo doo doo\n",
    "Daddy shark, doo doo doo doo doo doo\n",
    "Daddy shark, doo doo doo doo doo doo\n",
    "Daddy shark!\n",
    "Grandma shark, doo doo doo doo doo doo\n",
    "Grandma shark, doo doo doo doo doo doo\n",
    "Grandma shark, doo doo doo doo doo doo\n",
    "Grandma shark!\n",
    "Grandpa shark, doo doo doo doo doo doo\n",
    "Grandpa shark, doo doo doo doo doo doo\n",
    "Grandpa shark, doo doo doo doo doo doo\n",
    "Grandpa shark!\n",
    "Let's go hunt, doo doo doo doo doo doo\n",
    "Let's go hunt, doo doo doo doo doo doo\n",
    "Let's go hunt, doo doo doo doo doo doo\n",
    "Let's go hunt!\n",
    "Run away,… \n",
    "```\n",
    "\n",
    "### Step 3: Check output\n",
    "Now i want you must create a string variable called **result** to store all the characters and check if it is equal to the lyrics. Remenber de hint section. "
   ]
  },
  {
   "cell_type": "code",
   "execution_count": 156,
   "metadata": {},
   "outputs": [
    {
     "name": "stdout",
     "output_type": "stream",
     "text": [
      "[None, None, None, None, None, None] ['B', 'a', 'b', 'y', ' ', 's', 'h', 'a', 'r', 'k', ',', ' ', 'd', 'o', 'o', ' ', 'd', 'o', 'o', ' ', 'd', 'o', 'o', ' ', 'd', 'o', 'o', ' ', 'd', 'o', 'o', ' ', 'd', 'o', 'o', '\\n', 'B', 'a', 'b', 'y', ' ', 's', 'h', 'a', 'r', 'k', ',', ' ', 'd', 'o', 'o', ' ', 'd', 'o', 'o', ' ', 'd', 'o', 'o', ' ', 'd', 'o', 'o', ' ', 'd', 'o', 'o', ' ', 'd', 'o', 'o', '\\n', 'B', 'a', 'b', 'y', ' ', 's', 'h', 'a', 'r', 'k', ',', ' ', 'd', 'o', 'o', ' ', 'd', 'o', 'o', ' ', 'd', 'o', 'o', ' ', 'd', 'o', 'o', ' ', 'd', 'o', 'o', ' ', 'd', 'o', 'o', '\\n', 'B', 'a', 'b', 'y', ' ', 's', 'h', 'a', 'r', 'k', '!', '\\n', 'M', 'o', 'm', 'm', 'y', ' ', 's', 'h', 'a', 'r', 'k', ',', ' ', 'd', 'o', 'o', ' ', 'd', 'o', 'o', ' ', 'd', 'o', 'o', ' ', 'd', 'o', 'o', ' ', 'd', 'o', 'o', ' ', 'd', 'o', 'o', '\\n', 'M', 'o', 'm', 'm', 'y', ' ', 's', 'h', 'a', 'r', 'k', ',', ' ', 'd', 'o', 'o', ' ', 'd', 'o', 'o', ' ', 'd', 'o', 'o', ' ', 'd', 'o', 'o', ' ', 'd', 'o', 'o', ' ', 'd', 'o', 'o', '\\n', 'M', 'o', 'm', 'm', 'y', ' ', 's', 'h', 'a', 'r', 'k', ',', ' ', 'd', 'o', 'o', ' ', 'd', 'o', 'o', ' ', 'd', 'o', 'o', ' ', 'd', 'o', 'o', ' ', 'd', 'o', 'o', ' ', 'd', 'o', 'o', '\\n', 'M', 'o', 'm', 'm', 'y', ' ', 's', 'h', 'a', 'r', 'k', '!', '\\n', 'D', 'a', 'd', 'd', 'y', ' ', 's', 'h', 'a', 'r', 'k', ',', ' ', 'd', 'o', 'o', ' ', 'd', 'o', 'o', ' ', 'd', 'o', 'o', ' ', 'd', 'o', 'o', ' ', 'd', 'o', 'o', ' ', 'd', 'o', 'o', '\\n', 'D', 'a', 'd', 'd', 'y', ' ', 's', 'h', 'a', 'r', 'k', ',', ' ', 'd', 'o', 'o', ' ', 'd', 'o', 'o', ' ', 'd', 'o', 'o', ' ', 'd', 'o', 'o', ' ', 'd', 'o', 'o', ' ', 'd', 'o', 'o', '\\n', 'D', 'a', 'd', 'd', 'y', ' ', 's', 'h', 'a', 'r', 'k', ',', ' ', 'd', 'o', 'o', ' ', 'd', 'o', 'o', ' ', 'd', 'o', 'o', ' ', 'd', 'o', 'o', ' ', 'd', 'o', 'o', ' ', 'd', 'o', 'o', '\\n', 'D', 'a', 'd', 'd', 'y', ' ', 's', 'h', 'a', 'r', 'k', '!', '\\n', 'G', 'r', 'a', 'n', 'd', 'm', 'a', ' ', 's', 'h', 'a', 'r', 'k', ',', ' ', 'd', 'o', 'o', ' ', 'd', 'o', 'o', ' ', 'd', 'o', 'o', ' ', 'd', 'o', 'o', ' ', 'd', 'o', 'o', ' ', 'd', 'o', 'o', '\\n', 'G', 'r', 'a', 'n', 'd', 'm', 'a', ' ', 's', 'h', 'a', 'r', 'k', ',', ' ', 'd', 'o', 'o', ' ', 'd', 'o', 'o', ' ', 'd', 'o', 'o', ' ', 'd', 'o', 'o', ' ', 'd', 'o', 'o', ' ', 'd', 'o', 'o', '\\n', 'G', 'r', 'a', 'n', 'd', 'm', 'a', ' ', 's', 'h', 'a', 'r', 'k', ',', ' ', 'd', 'o', 'o', ' ', 'd', 'o', 'o', ' ', 'd', 'o', 'o', ' ', 'd', 'o', 'o', ' ', 'd', 'o', 'o', ' ', 'd', 'o', 'o', '\\n', 'G', 'r', 'a', 'n', 'd', 'm', 'a', ' ', 's', 'h', 'a', 'r', 'k', '!', '\\n', 'G', 'r', 'a', 'n', 'd', 'p', 'a', ' ', 's', 'h', 'a', 'r', 'k', ',', ' ', 'd', 'o', 'o', ' ', 'd', 'o', 'o', ' ', 'd', 'o', 'o', ' ', 'd', 'o', 'o', ' ', 'd', 'o', 'o', ' ', 'd', 'o', 'o', '\\n', 'G', 'r', 'a', 'n', 'd', 'p', 'a', ' ', 's', 'h', 'a', 'r', 'k', ',', ' ', 'd', 'o', 'o', ' ', 'd', 'o', 'o', ' ', 'd', 'o', 'o', ' ', 'd', 'o', 'o', ' ', 'd', 'o', 'o', ' ', 'd', 'o', 'o', '\\n', 'G', 'r', 'a', 'n', 'd', 'p', 'a', ' ', 's', 'h', 'a', 'r', 'k', ',', ' ', 'd', 'o', 'o', ' ', 'd', 'o', 'o', ' ', 'd', 'o', 'o', ' ', 'd', 'o', 'o', ' ', 'd', 'o', 'o', ' ', 'd', 'o', 'o', '\\n', 'G', 'r', 'a', 'n', 'd', 'p', 'a', ' ', 's', 'h', 'a', 'r', 'k', '!', '\\n', 'L', 'e', 't', \"'\", 's', ' ', 'g', 'o', ' ', 'h', 'u', 'n', 't', ',', ' ', 'd', 'o', 'o', ' ', 'd', 'o', 'o', ' ', 'd', 'o', 'o', ' ', 'd', 'o', 'o', ' ', 'd', 'o', 'o', ' ', 'd', 'o', 'o', '\\n', 'L', 'e', 't', \"'\", 's', ' ', 'g', 'o', ' ', 'h', 'u', 'n', 't', ',', ' ', 'd', 'o', 'o', ' ', 'd', 'o', 'o', ' ', 'd', 'o', 'o', ' ', 'd', 'o', 'o', ' ', 'd', 'o', 'o', ' ', 'd', 'o', 'o', '\\n', 'L', 'e', 't', \"'\", 's', ' ', 'g', 'o', ' ', 'h', 'u', 'n', 't', ',', ' ', 'd', 'o', 'o', ' ', 'd', 'o', 'o', ' ', 'd', 'o', 'o', ' ', 'd', 'o', 'o', ' ', 'd', 'o', 'o', ' ', 'd', 'o', 'o', '\\n', 'L', 'e', 't', \"'\", 's', ' ', 'g', 'o', ' ', 'h', 'u', 'n', 't', '!', '\\n', 'R', 'u', 'n', ' ', 'a', 'w', 'a', 'y', ',', '…']\n",
      "None B\n",
      "None a\n",
      "None b\n",
      "None y\n",
      "None  \n",
      "None s\n"
     ]
    }
   ],
   "source": [
    "# your code here\n",
    "\n",
    "lista1=list(cancion)\n",
    "lista2=list(babyshark)\n",
    "result=False\n",
    "print(lista1,lista2)\n",
    "\n",
    "for x,y in zip(lista1,lista2):\n",
    "    print(x,y)\n",
    "# no me va a dar lo mismo porque en babyshark hay muchos más caracteres\n"
   ]
  },
  {
   "cell_type": "code",
   "execution_count": 154,
   "metadata": {},
   "outputs": [
    {
     "name": "stdout",
     "output_type": "stream",
     "text": [
      "False\n"
     ]
    }
   ],
   "source": [
    "# Check\n",
    "\n",
    "print(result == babyshark)"
   ]
  },
  {
   "cell_type": "markdown",
   "metadata": {},
   "source": [
    "**Expected output**:\n",
    "\n",
    "```\n",
    "True\n",
    "```\n",
    "\n",
    "### Step 4: Function\n",
    " Create a functions called babyshark() that generates the wanted output. "
   ]
  },
  {
   "cell_type": "code",
   "execution_count": null,
   "metadata": {},
   "outputs": [],
   "source": [
    "def baby_shark_lyrics():     \n",
    "    # your code here\n",
    "    \n",
    "    "
   ]
  },
  {
   "cell_type": "code",
   "execution_count": null,
   "metadata": {},
   "outputs": [],
   "source": [
    "# Check\n",
    "\n",
    "print(baby_shark_lyrics() == babyshark)"
   ]
  },
  {
   "cell_type": "markdown",
   "metadata": {},
   "source": [
    "**Expected output**:\n",
    "\n",
    "```\n",
    "True\n",
    "```"
   ]
  },
  {
   "cell_type": "markdown",
   "metadata": {},
   "source": [
    "### Step 5: Files\n",
    "Baby shark lyrics can be read in the songs folder. Try to store the content of that file in a variable called **text** and check if it is equal to the babyshark variable and the output of your baby_shark_lyrics function. \n",
    "\n",
    "https://www.pythonforbeginners.com/files/reading-and-writing-files-in-python"
   ]
  },
  {
   "cell_type": "code",
   "execution_count": null,
   "metadata": {},
   "outputs": [],
   "source": [
    "# your code here\n",
    "\n"
   ]
  },
  {
   "cell_type": "code",
   "execution_count": null,
   "metadata": {},
   "outputs": [],
   "source": [
    "# check\n",
    "\n",
    "print(text == babyshark)"
   ]
  },
  {
   "cell_type": "markdown",
   "metadata": {},
   "source": [
    "**Expected output**:\n",
    "\n",
    "```\n",
    "True\n",
    "```"
   ]
  },
  {
   "cell_type": "code",
   "execution_count": null,
   "metadata": {},
   "outputs": [],
   "source": [
    "# Check\n",
    "\n",
    "print(baby_shark_lyrics() == text)"
   ]
  },
  {
   "cell_type": "markdown",
   "metadata": {},
   "source": [
    "**Expected output**:\n",
    "\n",
    "```\n",
    "True\n",
    "```"
   ]
  },
  {
   "cell_type": "markdown",
   "metadata": {},
   "source": [
    "### Step 6: Refactor\n",
    "Now I want you to refactor your **baby_shark_lyrics** function in order to be less than 400 characters. If your code is larger than 400 characters, you should change baby_shark_lyrics function in order to shorten it."
   ]
  },
  {
   "cell_type": "code",
   "execution_count": null,
   "metadata": {},
   "outputs": [],
   "source": [
    "import inspect\n",
    "\n",
    "code = inspect.getsource(baby_shark_lyrics)\n",
    "\n",
    "# check\n",
    "\n",
    "print('Your baby_shark_lyrics functions has {} characters'.format(len(code)))\n",
    "print(len(code) < 400)"
   ]
  },
  {
   "cell_type": "markdown",
   "metadata": {},
   "source": [
    "**Expected output**:\n",
    "\n",
    "```\n",
    "Your baby_shark_lyrics functions has 367 characters\n",
    "True\n",
    "```"
   ]
  },
  {
   "cell_type": "markdown",
   "metadata": {},
   "source": [
    "## Bonus\n",
    "\n",
    "http://www.99-bottles-of-beer.net/\n",
    "\n",
    "Now let`s try with another lyric, you can find it in songs folder. \n",
    "\n",
    "### Step 1. Create bottles_lyrics function"
   ]
  },
  {
   "cell_type": "code",
   "execution_count": null,
   "metadata": {},
   "outputs": [],
   "source": [
    "def bottles_lyrics():\n",
    "    # your code here. \n",
    "    \n",
    "    "
   ]
  },
  {
   "cell_type": "markdown",
   "metadata": {},
   "source": [
    "### Step 2. Open file"
   ]
  },
  {
   "cell_type": "code",
   "execution_count": null,
   "metadata": {},
   "outputs": [],
   "source": [
    "# your code here. \n",
    "\n"
   ]
  },
  {
   "cell_type": "code",
   "execution_count": null,
   "metadata": {},
   "outputs": [],
   "source": [
    "# Check\n",
    "\n",
    "print(bottles_lyrics() == text)"
   ]
  },
  {
   "cell_type": "markdown",
   "metadata": {},
   "source": [
    "**Expected output**:\n",
    "\n",
    "```\n",
    "True\n",
    "```"
   ]
  },
  {
   "cell_type": "markdown",
   "metadata": {},
   "source": [
    "### Step 3: Check code\n",
    "Now I want you to refactor your **bottles_lyrics** function in order to be less than 1000 characters. "
   ]
  },
  {
   "cell_type": "code",
   "execution_count": null,
   "metadata": {},
   "outputs": [],
   "source": [
    "import inspect\n",
    "\n",
    "code = inspect.getsource(bottles_lyrics)"
   ]
  },
  {
   "cell_type": "code",
   "execution_count": null,
   "metadata": {},
   "outputs": [],
   "source": [
    "# check\n",
    "\n",
    "print('Your bottles_lyrics functions has {} characters'.format(len(code)))\n",
    "print(len(code) < 1000)"
   ]
  },
  {
   "cell_type": "markdown",
   "metadata": {},
   "source": [
    "**Expected output**:\n",
    "\n",
    "```\n",
    "Your bottles_lyrics functions has 837 characters\n",
    "True\n",
    "```"
   ]
  },
  {
   "cell_type": "markdown",
   "metadata": {},
   "source": [
    "If you want a real challenge, follow the link below. Sign in and start coding!\n",
    "\n",
    "https://www.codewars.com/kata/baby-shark-lyrics-generator/train/python"
   ]
  }
 ],
 "metadata": {
  "kernelspec": {
   "display_name": "Python 3",
   "language": "python",
   "name": "python3"
  },
  "language_info": {
   "codemirror_mode": {
    "name": "ipython",
    "version": 3
   },
   "file_extension": ".py",
   "mimetype": "text/x-python",
   "name": "python",
   "nbconvert_exporter": "python",
   "pygments_lexer": "ipython3",
   "version": "3.7.4"
  }
 },
 "nbformat": 4,
 "nbformat_minor": 4
}
