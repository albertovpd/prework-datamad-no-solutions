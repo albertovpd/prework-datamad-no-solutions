{
 "cells": [
  {
   "cell_type": "code",
   "execution_count": 18,
   "metadata": {},
   "outputs": [
    {
     "name": "stdin",
     "output_type": "stream",
     "text": [
      "Cuántas partidas quieres jugar? : 5\n"
     ]
    }
   ],
   "source": [
    "# Import the choice function of the random module\n",
    "# https://stackoverflow.com/questions/306400/how-to-randomly-select-an-item-from-a-list\n",
    "\n",
    "# se me dan fatal las funciones. No podría haberlo hecho sin ayuda\n",
    "import random\n",
    "# Assign to a list the 3 possible options: 'stone', 'paper' or 'scissors'.\n",
    "game=['rock','paper','scissors']\n",
    "# Assign a variable to the maximum number of games: 1, 3, 5, etc ...\n",
    "v0=input('Cuántas partidas quieres jugar? :')\n",
    "v=int(v0) \n",
    "# v0=input('Cuántas partidas quieres jugar? :')\n",
    "# v=int(v0) \n",
    "\n",
    "# Assign a variable to the number of games a player must win to win.\n",
    "# Preferably the value will be based on the number of maximum games\n",
    "MustWin=3\n",
    "# Define a function that randomly returns one of the 3 options.\n",
    "# This will correspond to the play of the machine. Totally random.\n",
    "def machine(game):\n",
    "    return random.choice(game)\n",
    "# Define a function that asks your choice: 'stone', 'paper' or 'scissors'\n",
    "# you should only allow one of the 3 options. This is defensive programming.\n",
    "# If it is not stone, paper or scissors keep asking until it is.\n",
    "def human():\n",
    "    ju=input('rock,paper or scissors? ')\n",
    "    if ju not in game:\n",
    "        ju=input(\"Ey, there's a mistake in your choice. Please rewrite it, in minus: \")\n",
    "# meter lower en el futuro para que pille las mayúsculas\n",
    "        return ju\n"
   ]
  },
  {
   "cell_type": "code",
   "execution_count": 36,
   "metadata": {},
   "outputs": [
    {
     "name": "stdin",
     "output_type": "stream",
     "text": [
      "rock,paper or scissors?  rock\n"
     ]
    },
    {
     "name": "stdout",
     "output_type": "stream",
     "text": [
      "Máquina gana este match\n",
      "Máquina gana este match\n",
      "Máquina gana este match\n"
     ]
    }
   ],
   "source": [
    "# Define a function that resolves a combat.\n",
    "def combat():\n",
    "    ScoreHuman=0\n",
    "    ScoreMachine=0\n",
    "    m=machine(game)\n",
    "    h=human()\n",
    "            \n",
    "    for e in list(range(v)):\n",
    "        if ScoreHuman==MustWin:\n",
    "            break\n",
    "        if ScoreMachine==MustWin:\n",
    "            break\n",
    "            \n",
    "        if m=='rock':\n",
    "            if h=='rock':\n",
    "                print('empate!')             \n",
    "            elif h=='paper':\n",
    "                ScoreHuman+=1\n",
    "                print('Humano gana este match')\n",
    "            else:\n",
    "                ScoreMachine+=1\n",
    "                print('Máquina gana este match')\n",
    "            \n",
    "        elif m=='paper':\n",
    "            if h=='paper':\n",
    "                print('empate!')\n",
    "            elif h=='scissors':\n",
    "                ScoreHuman+=1\n",
    "                print('Humano gana este match')\n",
    "            else:\n",
    "                ScoreMachine+=1 \n",
    "                print('Máquina gana este match')\n",
    "\n",
    "        else:\n",
    "            if h=='scissors':\n",
    "                print('empate!')\n",
    "            elif h=='rock':\n",
    "                ScoreHuman+=1\n",
    "                print('Humano gana este match')\n",
    "            else:\n",
    "                ScoreMachine+=1\n",
    "                print('Máquina gana este match')\n",
    "            \n",
    "combat()"
   ]
  },
  {
   "cell_type": "code",
   "execution_count": 19,
   "metadata": {},
   "outputs": [
    {
     "name": "stdin",
     "output_type": "stream",
     "text": [
      "rock,paper or scissors?  rock\n"
     ]
    }
   ],
   "source": [
    "                \n",
    "    \n",
    "def result():\n",
    "    if ScoreHuman>ScoreMachine:\n",
    "        print(\"Gana el humano\")\n",
    "    elif ScoreHuman<ScoreMachine:\n",
    "        print(\"Gana la maquinita\")\n",
    "    else:\n",
    "        print(\"Rick Sanchez de la realidad Cs137 dice que máquinas y humanos se deben dar besitos\")\n",
    "    \n",
    "                \n",
    "# Returns 0 if there is a tie, 1 if the machine wins, 2 if the human player wins\n",
    "\n",
    "\n",
    "# Define a function that shows the choice of each player and the state of the game\n",
    "# This function should be used every time accumulated points are updated\n",
    "    \n",
    "# Create two variables that accumulate the wins of each participant\n",
    "\n",
    "# Create a loop that iterates while no player reaches the minimum of wins\n",
    "# necessary to win. Inside the loop solves the play of the\n",
    "# machine and ask the player's. Compare them and update the value of the variables\n",
    "# that accumulate the wins of each participant.\n",
    "    \n",
    "# Print by console the winner of the game based on who has more accumulated wins\n",
    "  "
   ]
  },
  {
   "cell_type": "code",
   "execution_count": null,
   "metadata": {},
   "outputs": [],
   "source": []
  }
 ],
 "metadata": {
  "kernelspec": {
   "display_name": "Python 3",
   "language": "python",
   "name": "python3"
  },
  "language_info": {
   "codemirror_mode": {
    "name": "ipython",
    "version": 3
   },
   "file_extension": ".py",
   "mimetype": "text/x-python",
   "name": "python",
   "nbconvert_exporter": "python",
   "pygments_lexer": "ipython3",
   "version": "3.7.4"
  }
 },
 "nbformat": 4,
 "nbformat_minor": 4
}
