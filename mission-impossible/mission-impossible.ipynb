{
 "cells": [
  {
   "cell_type": "code",
   "execution_count": 1,
   "metadata": {},
   "outputs": [],
   "source": [
    "# me cargué de alguna manera esta carpeta pero estoy viendo los enunciados en el Git de Alberto"
   ]
  },
  {
   "cell_type": "code",
   "execution_count": 10,
   "metadata": {},
   "outputs": [],
   "source": [
    "# Variables\n",
    "dbs = [0, 1, 0, 0, 0, 0, 1, 0, 1, 23, 1, 0, 1, 1, 0, 0, 0, \n",
    "       1, 1, 0, 20, 1, 1, 15, 1, 0, 0, 0, 40, 15, 0, 0]"
   ]
  },
  {
   "cell_type": "code",
   "execution_count": 7,
   "metadata": {},
   "outputs": [
    {
     "name": "stdout",
     "output_type": "stream",
     "text": [
      "[23, 20, 15, 40, 15]\n"
     ]
    }
   ],
   "source": [
    "# show volumes over 10db\n",
    "over=[]\n",
    "for x in dbs:\n",
    "    if x>10:\n",
    "        over.append(x)\n",
    "print(over)"
   ]
  },
  {
   "cell_type": "code",
   "execution_count": 8,
   "metadata": {},
   "outputs": [
    {
     "name": "stdout",
     "output_type": "stream",
     "text": [
      "[9, 20, 23, 28, 29]\n"
     ]
    }
   ],
   "source": [
    "# show the elements that exceeds that\n",
    "\n",
    "#for x in dbs:\n",
    "    #if x>10:\n",
    "        # y=dbs.index(x)     esto no lo puedo hacer porque si hay 2 valores repetidos me da siempre el primero\n",
    "        # elements.append(y)\n",
    "        # print(elements, y)\n",
    "dbs = [0, 1, 0, 0, 0, 0, 1, 0, 1, 23, 1, 0, 1, 1, 0, 0, 0, \n",
    "       1, 1, 0, 20, 1, 1, 15, 1, 0, 0, 0, 40, 15, 0, 0]\n",
    "index=[]\n",
    "for position, db in enumerate(dbs):\n",
    "    if db>10:\n",
    "        index.append(position)\n",
    "print(index)\n",
    "        \n",
    "        "
   ]
  },
  {
   "cell_type": "code",
   "execution_count": 21,
   "metadata": {},
   "outputs": [
    {
     "name": "stdout",
     "output_type": "stream",
     "text": [
      "[(23, 9), (20, 20), (15, 23), (40, 28), (15, 29)]\n"
     ]
    }
   ],
   "source": [
    "# Combine the last two exercises to show the moments when a \n",
    "# volume exceeds 10 dBs. HINT: Use the enumerate function\n",
    "print(list(zip(over,index)))\n",
    "\n",
    "# no se me ocurre cómo usar enumerate"
   ]
  },
  {
   "cell_type": "code",
   "execution_count": 10,
   "metadata": {},
   "outputs": [
    {
     "name": "stdout",
     "output_type": "stream",
     "text": [
      "Alarm\n"
     ]
    }
   ],
   "source": [
    "# Ethan is discovered if two consecutive volumes are greater than 10 dB. Is he safe? \n",
    "# HINT: Beware of the extremes, do not have an error of the type\n",
    "# IndexError: list index out of range\n",
    "\n",
    "dbs = [0, 1, 0, 0, 0, 0, 1, 0, 1, 23, 1, 0, 1, 1, 0, 0, 0, \n",
    "       1, 1, 0, 20, 1, 1, 15, 1, 0, 0, 0, 40, 15, 0, 0]\n",
    "\n",
    "consecutives=0\n",
    "\n",
    "for x in dbs:\n",
    "    if x>10:\n",
    "        consecutives+=1\n",
    "        if consecutives==2:\n",
    "            print('Alarm')\n",
    "            "
   ]
  },
  {
   "cell_type": "code",
   "execution_count": 14,
   "metadata": {},
   "outputs": [
    {
     "name": "stdout",
     "output_type": "stream",
     "text": [
      "[0, 1, 0, 0, 0, 0, 1, 0, 1, 12, 1, 0, 1, 1, 0, 0, 0, 1, 1, 0, 20, 1, 1, 15, 1, 0, 0, 0, 18, 15, 0, 0]\n"
     ]
    }
   ],
   "source": [
    "# Bonus\n",
    "# Now you have the role of Ethan's hacker. To cheat the security system you are \n",
    "# going to execute a computer code on the list dbs and you are going to reduce all\n",
    "# values higher than 20 in 12 dBs but the ones higher than 30 in 18 dBs. Then \n",
    "# confirm the result of your operation by printing the new modified dbs list on \n",
    "# the screen.\n",
    "dbs = [0, 1, 0, 0, 0, 0, 1, 0, 1, 23, 1, 0, 1, 1, 0, 0, 0, \n",
    "       1, 1, 0, 20, 1, 1, 15, 1, 0, 0, 0, 40, 15, 0, 0]\n",
    "hacked=[]\n",
    "for x in dbs:\n",
    "    if x<=20:\n",
    "        hacked.append(x)\n",
    "    if x>30:\n",
    "        hacked.append(18)\n",
    "    elif x>20 and x<=30:\n",
    "        hacked.append(12)\n",
    "print(hacked)"
   ]
  },
  {
   "cell_type": "code",
   "execution_count": null,
   "metadata": {},
   "outputs": [],
   "source": []
  }
 ],
 "metadata": {
  "kernelspec": {
   "display_name": "Python 3",
   "language": "python",
   "name": "python3"
  },
  "language_info": {
   "codemirror_mode": {
    "name": "ipython",
    "version": 3
   },
   "file_extension": ".py",
   "mimetype": "text/x-python",
   "name": "python",
   "nbconvert_exporter": "python",
   "pygments_lexer": "ipython3",
   "version": "3.7.4"
  }
 },
 "nbformat": 4,
 "nbformat_minor": 4
}
